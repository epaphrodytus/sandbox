{
 "cells": [
  {
   "cell_type": "markdown",
   "metadata": {},
   "source": [
    "# Pillars Of OOP\n",
    "- [Abstraction](#abstraction)\n",
    "- [Polymorphism](#polymorphism)\n",
    "- Inheritance \n",
    "- Encapsulation"
   ]
  },
  {
   "cell_type": "markdown",
   "metadata": {},
   "source": [
    "## Abstraction\n",
    "Abstraction is the idea where a user cares not about what goes on behind the scenes. They have learned that by issuing a command via a set method, a set result happens. This sort of abstraction is desirable because if a user cares too much about what goes on internally, they might never get moving.  \n",
    "They interact with interfaces that require them to give the bare minimum information to get a certain result out. The result is obtained is done via the interface's implementation and this implementation can change drastically without the user realizing simply because they do not have to, or want to, care about it.  \n",
    "Think about a gas car and an electric car. When pressing the acceleration pedal, both cars move forward. For most car users, this is all that's needed to get moving. And very few people want to care about what exactly goes on after depressing the model that causes the car to move forward. However, the mechanism by which both cars move are very different, yet, a user can use both cars without much of a learning curve.  \n",
    "This is abstraction."
   ]
  },
  {
   "cell_type": "code",
   "execution_count": 3,
   "metadata": {},
   "outputs": [],
   "source": [
    "from abc import ABC, ABCMeta, abstractmethod \n",
    "import inspect \n",
    "\n",
    "class MetadataStore(metaclass=ABCMeta):\n",
    "    @abstractmethod \n",
    "    def obtain(self, key):\n",
    "        pass \n",
    "\n",
    "    @abstractmethod \n",
    "    def assign(self, key, value):\n",
    "        pass \n",
    "\n",
    "class IncompleteMetadataStore(MetadataStore):\n",
    "    pass "
   ]
  },
  {
   "cell_type": "code",
   "execution_count": 4,
   "metadata": {},
   "outputs": [
    {
     "ename": "TypeError",
     "evalue": "Can't instantiate abstract class IncompleteMetadataStore without an implementation for abstract methods 'assign', 'obtain'",
     "output_type": "error",
     "traceback": [
      "\u001b[1;31m---------------------------------------------------------------------------\u001b[0m",
      "\u001b[1;31mTypeError\u001b[0m                                 Traceback (most recent call last)",
      "Cell \u001b[1;32mIn[4], line 1\u001b[0m\n\u001b[1;32m----> 1\u001b[0m metastore \u001b[38;5;241m=\u001b[39m IncompleteMetadataStore()\n",
      "\u001b[1;31mTypeError\u001b[0m: Can't instantiate abstract class IncompleteMetadataStore without an implementation for abstract methods 'assign', 'obtain'"
     ]
    }
   ],
   "source": [
    "metastore = IncompleteMetadataStore()"
   ]
  },
  {
   "cell_type": "markdown",
   "metadata": {},
   "source": [
    "When you design an abstraction of a class (an abstract class), the expectation is that every method exposed in the abstract class needs to be implemented by the concrete classes that implement it. Python uses the abc module to enforce this."
   ]
  },
  {
   "cell_type": "code",
   "execution_count": 5,
   "metadata": {},
   "outputs": [],
   "source": [
    "class CollibraMetadataStore(MetadataStore):\n",
    "    _data = {}\n",
    "    def obtain(self, key):\n",
    "        print(f\"Getting data from Collibra associated with '{key}'.\")\n",
    "        return self._data.get(key)\n",
    "    \n",
    "    def assign(self, key, value):\n",
    "        print(f\"Assigning value '{value}' to key '{key}'.\")\n",
    "        return self._data.update({key: value})"
   ]
  },
  {
   "cell_type": "code",
   "execution_count": 6,
   "metadata": {},
   "outputs": [],
   "source": [
    "metastore = CollibraMetadataStore()"
   ]
  },
  {
   "cell_type": "code",
   "execution_count": 7,
   "metadata": {},
   "outputs": [
    {
     "name": "stdout",
     "output_type": "stream",
     "text": [
      "Assigning value 'Every Day 2 AM JST' to key 'SLA'.\n"
     ]
    }
   ],
   "source": [
    "metastore.assign('SLA', 'Every Day 2 AM JST')"
   ]
  },
  {
   "cell_type": "markdown",
   "metadata": {},
   "source": [
    "There is an implementation of MetadataStore in the next cell that will be hidden. Just from that piece of information alone, you can make the assumption that whatever implemention is hidden there can have obtain and assign called against it."
   ]
  },
  {
   "cell_type": "code",
   "execution_count": 8,
   "metadata": {},
   "outputs": [],
   "source": [
    "class HiddenMetadataStore(MetadataStore):\n",
    "    _data = {}\n",
    "    def obtain(self, key):\n",
    "        print(f\"Getting data from Unknown metadata store associated with '{key}'.\")\n",
    "        return self._data.get(key)\n",
    "    \n",
    "    def assign(self, key, value):\n",
    "        print(f\"Assigning value '{value}' to key '{key}'.\")\n",
    "        return self._data.update({key: value})"
   ]
  },
  {
   "cell_type": "code",
   "execution_count": 9,
   "metadata": {},
   "outputs": [
    {
     "name": "stdout",
     "output_type": "stream",
     "text": [
      "Assigning value 'hush' to key 'hidden_key'.\n"
     ]
    }
   ],
   "source": [
    "hidden_metastore = HiddenMetadataStore()\n",
    "hidden_metastore.assign('hidden_key', 'hush')"
   ]
  },
  {
   "cell_type": "markdown",
   "metadata": {},
   "source": [
    "Similarly, knowing that all of these objects implement the MetadataStore interface, we can expect to be able to use the 'obtain' method on either without knowing which one it is we are using"
   ]
  },
  {
   "cell_type": "code",
   "execution_count": 11,
   "metadata": {},
   "outputs": [
    {
     "name": "stdout",
     "output_type": "stream",
     "text": [
      "Assigning value 'value' to key 'key'.\n",
      "Assigning value 'value' to key 'key'.\n"
     ]
    }
   ],
   "source": [
    "collibra_metastore = CollibraMetadataStore() \n",
    "hidden_metastore = HiddenMetadataStore()\n",
    "collibra_metastore.assign('key', 'value')\n",
    "hidden_metastore.assign('key', 'value')"
   ]
  },
  {
   "cell_type": "code",
   "execution_count": 12,
   "metadata": {},
   "outputs": [],
   "source": [
    "metastores = [] \n",
    "metastores.append(collibra_metastore)\n",
    "metastores.append(hidden_metastore)"
   ]
  },
  {
   "cell_type": "code",
   "execution_count": 14,
   "metadata": {},
   "outputs": [
    {
     "name": "stdout",
     "output_type": "stream",
     "text": [
      "Getting data from Unknown metadata store associated with 'key'.\n",
      "Getting data from Collibra associated with 'key'.\n",
      "Getting data from Collibra associated with 'key'.\n"
     ]
    },
    {
     "data": {
      "text/plain": [
       "'value'"
      ]
     },
     "execution_count": 14,
     "metadata": {},
     "output_type": "execute_result"
    }
   ],
   "source": [
    "import secrets \n",
    "\n",
    "selected_metastore = secrets.choice(metastores)\n",
    "selected_metastore.obtain('key')\n",
    "selected_metastore = secrets.choice(metastores)\n",
    "selected_metastore.obtain('key')\n",
    "selected_metastore = secrets.choice(metastores)\n",
    "selected_metastore.obtain('key')"
   ]
  },
  {
   "cell_type": "markdown",
   "metadata": {},
   "source": [
    "In the above example we used the 'secrets' module to pick a metastore at random from the 2, regardless of which metastore we draw, we can call the same method and if they contain the same data, we will get the same result. In other words, in the eyes of the user, it doesn't matter what is the concrete metastore they get, if they know the interface they can use any number of concrete metastores and perform the same actions."
   ]
  },
  {
   "cell_type": "markdown",
   "metadata": {},
   "source": [
    "[to top](#pillars-of-oop)  "
   ]
  },
  {
   "cell_type": "markdown",
   "metadata": {},
   "source": [
    "## Polymorphism\n",
    "Polymorphism is the idea whereby a certain group of objects can be used interchangeable to perform the same action but the action may be implemented in different ways."
   ]
  },
  {
   "cell_type": "markdown",
   "metadata": {},
   "source": [
    "[to top](#pillars-of-oop)  "
   ]
  },
  {
   "cell_type": "markdown",
   "metadata": {},
   "source": [
    "## Inheritance\n",
    "Inheritance is the ability to associate an object with another object in a \"object A **is an** object B\" sort of way.\n",
    "Since they are of the same type, we can simply adopt the behavior of object B without having to write any new behavior for object A.\n",
    "Under the inheritance umbrella is where terms like \"subclass\" and \"superclass\" come in, where a subclass inherits from a superclass.\n",
    "Here it is also important to draw a distinction between inheritance and implementation. A class can implement multiple Interfaces but typically inherit from only one super class. "
   ]
  },
  {
   "cell_type": "code",
   "execution_count": 58,
   "metadata": {},
   "outputs": [],
   "source": [
    "import pandas as pd\n",
    "from abc import ABC, ABCMeta, abstractmethod \n",
    "\n",
    "class ReaderInterface(metaclass=ABCMeta):\n",
    "    @abstractmethod\n",
    "    def read(path):\n",
    "        pass \n",
    "\n",
    "class WriterInterface(metaclass=ABCMeta):\n",
    "    @abstractmethod\n",
    "    def write(path, object):\n",
    "        pass \n",
    "\n",
    "class IOInterface(ReaderInterface, WriterInterface):\n",
    "    pass\n",
    "\n",
    "class DataContainerInterface(metaclass=ABCMeta):\n",
    "    @abstractmethod \n",
    "    def get(key):\n",
    "        pass \n",
    "\n",
    "    @abstractmethod\n",
    "    def put(key, value):\n",
    "        pass \n"
   ]
  },
  {
   "cell_type": "code",
   "execution_count": 61,
   "metadata": {},
   "outputs": [],
   "source": [
    "class ConcreteReader(ReaderInterface):\n",
    "    def read(self, path):\n",
    "        print(f\"REader: reading from path: {path}\")\n",
    "    \n",
    "class ConcreteWriter(WriterInterface):\n",
    "    def write(self, path):\n",
    "        print(f\"Writer: writing to path: {path}\")\n",
    "\n",
    "class BadIO(IOInterface):\n",
    "    def read(self, path):\n",
    "        print(f\"IO: reading from path: {path}\")\n",
    "\n"
   ]
  },
  {
   "cell_type": "code",
   "execution_count": 62,
   "metadata": {},
   "outputs": [],
   "source": [
    "some_text = 'sum ting wong'\n",
    "some_path = 'some_path'"
   ]
  },
  {
   "cell_type": "code",
   "execution_count": 63,
   "metadata": {},
   "outputs": [],
   "source": [
    "reader = ConcreteReader()\n",
    "writer = ConcreteWriter()"
   ]
  },
  {
   "cell_type": "code",
   "execution_count": 64,
   "metadata": {},
   "outputs": [
    {
     "ename": "TypeError",
     "evalue": "Can't instantiate abstract class BadIO without an implementation for abstract method 'write'",
     "output_type": "error",
     "traceback": [
      "\u001b[1;31m---------------------------------------------------------------------------\u001b[0m",
      "\u001b[1;31mTypeError\u001b[0m                                 Traceback (most recent call last)",
      "Cell \u001b[1;32mIn[64], line 1\u001b[0m\n\u001b[1;32m----> 1\u001b[0m in_out \u001b[38;5;241m=\u001b[39m BadIO()\n",
      "\u001b[1;31mTypeError\u001b[0m: Can't instantiate abstract class BadIO without an implementation for abstract method 'write'"
     ]
    }
   ],
   "source": [
    "in_out = BadIO()"
   ]
  },
  {
   "cell_type": "code",
   "execution_count": 65,
   "metadata": {},
   "outputs": [],
   "source": [
    "class IO(IOInterface):\n",
    "    def read(self, path):\n",
    "        print(f\"IO: reading from path: {path}\")\n",
    "    \n",
    "    def write(self, path, object):\n",
    "        print(f\"IO: writing to path: {path}\")"
   ]
  },
  {
   "cell_type": "code",
   "execution_count": 66,
   "metadata": {},
   "outputs": [],
   "source": [
    "in_out = IO()"
   ]
  },
  {
   "cell_type": "code",
   "execution_count": 67,
   "metadata": {},
   "outputs": [
    {
     "name": "stdout",
     "output_type": "stream",
     "text": [
      "IO: writing to path: some_path\n"
     ]
    }
   ],
   "source": [
    "in_out.write(some_path, some_text)"
   ]
  },
  {
   "cell_type": "markdown",
   "metadata": {},
   "source": [
    "So far, the above examples exhibit implementation of an interface but with one interface \"inheriting\" from multiple interfaces. Well, that may not be considered inheritance so let's do a more classical example of inheritance as well."
   ]
  },
  {
   "cell_type": "markdown",
   "metadata": {},
   "source": [
    "[to top](#pillars-of-oop)"
   ]
  },
  {
   "cell_type": "markdown",
   "metadata": {},
   "source": [
    "## Encapsulation\n",
    "Encapsulation is the idea of keeping data and code together in a single location. This data and the data structure that holds it should not be exposed or at the very least should be able to be hidden from users, making it inaccessible except from the Object's certain set methods. \n",
    "This allows us to find information closest to what uses it. This allows us hide internal data structures which is where many optimizations tend to occur and expose a set way of getting data from the object."
   ]
  },
  {
   "cell_type": "markdown",
   "metadata": {},
   "source": [
    "[to top](#pillars-of-oop)"
   ]
  },
  {
   "cell_type": "markdown",
   "metadata": {},
   "source": [
    "# The 5 Best Practices of OOP: SOLID\n",
    "- **S**ingle Responsibility Principle\n",
    "- **O**pen-closed Principle\n",
    "- **L**iskov-Substitution Principle \n",
    "- **I**nterface Segregation Principle\n",
    "- **D**ependency Inversion Principle"
   ]
  },
  {
   "cell_type": "markdown",
   "metadata": {},
   "source": [
    "## Single Responsibility Principle"
   ]
  },
  {
   "cell_type": "markdown",
   "metadata": {},
   "source": [
    "Definition: A class should only have one and only one reason to change  \n",
    "What constitues a \"single responsibility\" is dependent on what level of abstraction we are at"
   ]
  },
  {
   "cell_type": "markdown",
   "metadata": {},
   "source": [
    "## Open-closed Principle"
   ]
  },
  {
   "cell_type": "markdown",
   "metadata": {},
   "source": [
    "Definition: Classes should be open for extension but closed for modification *by the user  \n",
    "If an existing class has reached a final state, it may be too risky to modify the code within directly, in which case the class should have been designed in such a way that developers can simply extend the class and implement the new functionality or the change in behaviour there.\n"
   ]
  },
  {
   "cell_type": "markdown",
   "metadata": {},
   "source": [
    "## Liskov-substitution Principle"
   ]
  },
  {
   "cell_type": "markdown",
   "metadata": {},
   "source": [
    "Definition: If A subclasses B, A should be able to be passed in to anywhere B is and the code should not break  \n",
    "This principle governs how methods should be overridden. Overriding adds nuance, it doesn't completely change behaviour, if it does then the functionality should probably belong to a different class.\n",
    "Also, it enforces the fact that all methods need to be implemented"
   ]
  },
  {
   "cell_type": "code",
   "execution_count": 20,
   "metadata": {},
   "outputs": [],
   "source": [
    "from abc import ABCMeta, abstractmethod \n",
    "\n",
    "class Food(metaclass=ABCMeta):\n",
    "    def __init__(self):\n",
    "        pass \n",
    "\n",
    "    @property\n",
    "    @abstractmethod \n",
    "    def calories(self) -> int:\n",
    "        \"\"\"\n",
    "        Returns the calorie value of the food as an integer.\n",
    "        The units should be cal\n",
    "        \"\"\"\n",
    "        pass \n",
    "\n",
    "class CatFood(Food):\n",
    "    @property \n",
    "    def calories(self):\n",
    "        return 20 \n",
    "    \n",
    "class TigerFood(CatFood):\n",
    "    @property \n",
    "    def calories(self):\n",
    "        return 200\n",
    "\n",
    "class Animal(metaclass=ABCMeta):\n",
    "    def __init__(self):\n",
    "        self._calories = 2000\n",
    "\n",
    "\n",
    "    def eat(self, food: Food):\n",
    "        self._calories += food.calories\n",
    "        return None \n",
    "    \n",
    "class Cat(Animal):\n",
    "    def __init__(self):\n",
    "        self._calories = 0 \n",
    "        self._loyalty = 0 \n",
    "\n",
    "    def eat(self, food:Food):\n",
    "        self._calories += food.calories \n",
    "        self._loyalty += 10 \n",
    "\n",
    "class Tiger(Cat): \n",
    "    def __init__(self):\n",
    "        self._calories = 0 \n",
    "        self._loyalty = 0 \n",
    "    \n",
    "    def eat(self, food:Food):\n",
    "        super().eat(food)\n",
    "    \n",
    "class Feeder(metaclass=ABCMeta):\n",
    "    @property \n",
    "    @abstractmethod \n",
    "    def feed(animal:Animal, food: Food): \n",
    "        pass \n",
    "\n",
    "class CatFeeder:\n",
    "    def feed(self, cat: Cat, food: CatFood):\n",
    "        if not isinstance(food, Food):\n",
    "            raise TypeError(f\"CatFeeder only accepts food for cats, passed in {type(food)} instead.\")\n",
    "        cat.eat(food)\n",
    "\n",
    "class TigerFeeder:\n",
    "    def feed(self, tiger: Cat, food: TigerFood):\n",
    "        if not isinstance(food, TigerFood):\n",
    "            raise TypeError(f\"TigerFeeder only accepts food for tigers, passed in {type(food)} instead.\")\n",
    "        tiger.eat(food)"
   ]
  },
  {
   "cell_type": "code",
   "execution_count": 27,
   "metadata": {},
   "outputs": [],
   "source": [
    "# In this case, TigerFood is a subclass of CatFood\n",
    "# Therefore, according to Liskov Substitution Principle, \n",
    "# I should be able to pass in TigerFood to anywhere that can also use CatFood\n",
    "cat_feeder = CatFeeder() \n",
    "tiger_feeder = TigerFeeder() \n",
    "cat = Cat() \n",
    "tiger = Tiger() \n",
    "cat_food = CatFood() \n",
    "tiger_food = TigerFood()\n",
    "tiger_feeder.feed(tiger, tiger_food)\n",
    "cat_feeder.feed(cat, tiger_food)"
   ]
  },
  {
   "cell_type": "code",
   "execution_count": 28,
   "metadata": {},
   "outputs": [
    {
     "data": {
      "text/plain": [
       "200"
      ]
     },
     "execution_count": 28,
     "metadata": {},
     "output_type": "execute_result"
    }
   ],
   "source": [
    "cat._calories"
   ]
  },
  {
   "cell_type": "markdown",
   "metadata": {},
   "source": []
  },
  {
   "cell_type": "markdown",
   "metadata": {},
   "source": [
    "## Interface Segregation Principle"
   ]
  },
  {
   "cell_type": "markdown",
   "metadata": {},
   "source": [
    "Definition: Classes shouldn't be forced to depend on methods they do not use  \n",
    "This principle checks if your interface definition is too broad. If a class implements a interface and it finds a method in the interface that it does not want to implement, it could be a sign that the interface should be broken into a smaller one."
   ]
  },
  {
   "cell_type": "markdown",
   "metadata": {},
   "source": [
    "## Dependency Inversion Principle"
   ]
  },
  {
   "cell_type": "markdown",
   "metadata": {},
   "source": [
    "Definition: High-level classes shouldn't depend on low-level classes. Both should depend on abstractions. Abstractions shouldn't depend on details. Details should depend on abstractions.  \n",
    "When approaching a problem, it should be from the high-level to low-level even if the temptation is typically to do it from lower to higher.  \n",
    "Classes should work with abstractions of lower-lovel classes not concrete implementations."
   ]
  },
  {
   "cell_type": "markdown",
   "metadata": {},
   "source": [
    "# Features of Good Design"
   ]
  },
  {
   "cell_type": "markdown",
   "metadata": {},
   "source": [
    "## Code Reuse"
   ]
  },
  {
   "cell_type": "markdown",
   "metadata": {},
   "source": [
    "The simplest way to reduce the number of things to maintain is to not write so much of it and instead write general purpose code that can apply to many situations instead of just hard-coding it.  \n",
    "  \n",
    "There are 3 levels of code reuse:  \n",
    "1. Class  \n",
    "    - at the class level we can have code reuse in the form of inheritance or via dependency injection and composition where a class which can perform the task at hand is passed in and used instead of having to code a new method in a specific class \n",
    "2. Patterns  \n",
    "    - by conforming classes to certain patterns, or by learning the most frequently used patterns, one can spend less time thinking and more time delivering value by utilizing some of the most tried and true design patterns\n",
    "3. Framework  \n",
    "    - this is a suite of classes designed to work together with a component that can be extended by the user. The user takes care of a relatively small but crucial component of the puzzle. Meanwhile, the rest of the puzzle has already been filled in by the framework, the user just needs to connect their piece to the greater picture."
   ]
  },
  {
   "cell_type": "markdown",
   "metadata": {},
   "source": [
    "## Extensibility"
   ]
  },
  {
   "cell_type": "markdown",
   "metadata": {},
   "source": [
    "How quickly can you implement a new functionality required by the user and maintain (or even reduce) the overall complexity of the system? The answer is to have a good design that can be extended easily and can adapt to changing demands quickly."
   ]
  },
  {
   "cell_type": "markdown",
   "metadata": {},
   "source": [
    "# Design Principles"
   ]
  },
  {
   "cell_type": "markdown",
   "metadata": {},
   "source": [
    "How then can we have good design? The answer is some tried and tested design principles that you can think about as you code.  \n",
    "  \n",
    "## Encapsulate what varies  \n",
    "Programs should be modularized such that changes can be made without affecting the rest of the system. This reduces the need to do end-to-end testing every single time.  \n",
    "Much like classes, methods also need to follow the Single Responbility Principle. And, as the Philosophy of Software Design puts it, \"a method needs to do a single thing and do it completely\".  \n",
    "Consider further that each encapsulation should be a collection of design decisions, the lower the level of the code, the less design decisions should be contained within any one encapsulation.  \n",
    "  \n",
    "\n",
    "## Program to an Interface, not an implementation  \n",
    "Interfaces should not change often. Implementations can change rapidly and at any time. Anyone designing OOP code needs to bear this in mind. Therefore, never dig deeper than what is declared in the interface for any one object. Servers are obliged to let you know when an interface change occurs but are not obligated to let you know every single implementation change/optimization.  \n",
    "  \n",
    "## Favor Composition Over Inheritance  \n",
    "Inheritance, by nature, causes tight coupling between the superclass and the subclass. \n",
    "Because of that, more often than not, it would make sense to perform the abstraction in a different way that allows for composition instead of inheritance.  \n",
    "As a good rule of thumb, inheritance should only be along a single property dimension. i.e., only one property of the superclass changes between subclasses at the same level. "
   ]
  },
  {
   "cell_type": "markdown",
   "metadata": {},
   "source": []
  }
 ],
 "metadata": {
  "kernelspec": {
   "display_name": "oop",
   "language": "python",
   "name": "oop"
  },
  "language_info": {
   "codemirror_mode": {
    "name": "ipython",
    "version": 3
   },
   "file_extension": ".py",
   "mimetype": "text/x-python",
   "name": "python",
   "nbconvert_exporter": "python",
   "pygments_lexer": "ipython3",
   "version": "3.12.4"
  }
 },
 "nbformat": 4,
 "nbformat_minor": 2
}
