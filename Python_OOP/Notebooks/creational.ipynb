{
 "cells": [
  {
   "cell_type": "markdown",
   "metadata": {},
   "source": [
    "# Creational Design Patterns\n",
    "- [Factory Method](#factory-method)"
   ]
  },
  {
   "cell_type": "markdown",
   "metadata": {},
   "source": [
    "### Factory Method  [top](#creational-design-patterns)\n",
    "The factory method works by defining a common interface used by the Creator class and a common interace used by the Product class. In this way the Creator can use objects with the Product type in the same way everytime while the actual identity of the Product itself (the concrete Product) can change depending on the Creator that is instantiated. "
   ]
  },
  {
   "cell_type": "code",
   "execution_count": 1,
   "metadata": {},
   "outputs": [],
   "source": [
    "from abc import ABCMeta, abstractmethod "
   ]
  },
  {
   "cell_type": "code",
   "execution_count": 2,
   "metadata": {},
   "outputs": [],
   "source": [
    "class AbstractDocument(metaclass=ABCMeta):\n",
    "    def __init__(self):\n",
    "        self.data = '' \n",
    "\n",
    "    @abstractmethod \n",
    "    def open(self): \n",
    "        pass \n",
    "\n",
    "    @abstractmethod \n",
    "    def close(self):\n",
    "        pass \n",
    "\n",
    "    def save(self, path):\n",
    "        with open(path, 'w') as f: \n",
    "            f.write(self.data)\n",
    "        return None\n",
    "\n",
    "class AbstractApplication(metaclass=ABCMeta):\n",
    "    def __init__(self):\n",
    "        self.data = None\n",
    "        self.docs = []\n",
    "\n",
    "    @abstractmethod \n",
    "    def create_document(self) -> AbstractDocument:\n",
    "        pass \n",
    "\n",
    "    def new_document(self):\n",
    "        document = self.create_document()\n",
    "        self.docs.append(document)\n",
    "        document.open()\n"
   ]
  },
  {
   "cell_type": "markdown",
   "metadata": {},
   "source": [
    "To know when to use the factory method, think like this:  \n",
    "There is a typical way to perform a function requiring the use of certain products of a certain type.  \n",
    "The other functions use these products the same way and can be implemented in the abstract class itself but the creation of these products are delegated to a couple of factory methods that decide what kind of products are returned.  \n",
    "Each concrete Creator specifies the concrete Products that are produced by their factory methods which are then used in the same way by the method inherited from the abstract class. "
   ]
  },
  {
   "cell_type": "markdown",
   "metadata": {},
   "source": [
    "If you find the number of factory methods you have to implement increasing, or if you are finding that you need to define more and more concrete products to produce, consider switching to an abstract factory pattern instead. "
   ]
  },
  {
   "cell_type": "markdown",
   "metadata": {},
   "source": [
    "### Abstract Factory\n",
    "If you need to work with various families of related products you can think of using an abstract factory.\n"
   ]
  },
  {
   "cell_type": "code",
   "execution_count": null,
   "metadata": {},
   "outputs": [],
   "source": [
    "# Imagine that a client wants to build a certain kind of maze and have a player interact with various elements in the maze"
   ]
  },
  {
   "cell_type": "code",
   "execution_count": 3,
   "metadata": {},
   "outputs": [],
   "source": [
    "from abc import ABCMeta, abstractmethod\n",
    "\n",
    "class AbstractAttack(metaclass=ABCMeta):\n",
    "    @property \n",
    "    @abstractmethod\n",
    "    def damage(self):\n",
    "        pass\n",
    "\n",
    "class AbstractWall(metaclass=ABCMeta):\n",
    "    def __init__(self):\n",
    "        self._hit_points = 200\n",
    "\n",
    "    @property\n",
    "    @abstractmethod\n",
    "    def damage_multiplier(self):\n",
    "        pass\n",
    "\n",
    "    def get_hit(self, attack:AbstractAttack):\n",
    "        self._hit_points - (attack.damage * self.damage_multiplier)\n",
    "        return None \n",
    "\n",
    "class AbstractDoor(metaclass=ABCMeta):\n",
    "    def __init__(self):\n",
    "        self._hit_points = 10\n",
    "\n",
    "    @property \n",
    "    @abstractmethod \n",
    "    def damage_multiplier(self): \n",
    "        pass \n",
    " \n",
    "    def get_hit(self, attack:AbstractAttack):\n",
    "        self._hit_points - (attack.damage * self.damage_multiplier)\n",
    "        return None \n",
    "\n",
    "class AbstractFloor(metaclass=ABCMeta):\n",
    "    @property\n",
    "    @abstractmethod \n",
    "    def speed_multiplier(self):\n",
    "        pass\n",
    "\n",
    "class RoomAbstractFactory(metaclass=ABCMeta):\n",
    "    @abstractmethod\n",
    "    def create_wall(self) -> AbstractWall: \n",
    "        pass \n",
    "\n",
    "    @abstractmethod \n",
    "    def create_door(self) -> AbstractDoor: \n",
    "        pass \n",
    "\n",
    "    @abstractmethod \n",
    "    def create_floor(self) -> AbstractFloor: \n",
    "        pass\n"
   ]
  },
  {
   "cell_type": "code",
   "execution_count": 7,
   "metadata": {},
   "outputs": [],
   "source": [
    "class BreakableWall(AbstractWall):\n",
    "    @property\n",
    "    def damage_multiplier(self):\n",
    "        return 1\n",
    "\n",
    "class UnbreakableWall(AbstractWall):\n",
    "    @property \n",
    "    def damage_multiplier(self):\n",
    "        return 0\n",
    "\n",
    "class BreakableDoor(AbstractDoor): \n",
    "    @property \n",
    "    def damage_multiplier(self):\n",
    "        return 1\n",
    "\n",
    "class UnbreakableDoor(AbstractDoor):\n",
    "    @property \n",
    "    def damage_multiplier(self):\n",
    "        return 0\n",
    "\n",
    "class StickyFloor(AbstractFloor):\n",
    "    @property \n",
    "    def speed_multiplier(self):\n",
    "        return 0.5\n",
    "\n",
    "class SlipperyFloor(AbstractFloor):\n",
    "    @property \n",
    "    def speed_multiplier(self):\n",
    "        return 1.5\n",
    "\n",
    "class Floor(AbstractFloor): \n",
    "    @property \n",
    "    def speed_multiplier(self):\n",
    "        return 1\n",
    "    \n",
    "class StageOneRoomFactory(RoomAbstractFactory):\n",
    "    def create_door(self):\n",
    "        return UnbreakableDoor()\n",
    "    \n",
    "    def create_floor(self):\n",
    "        return Floor() \n",
    "    \n",
    "    def create_wall(self):\n",
    "        return UnbreakableWall()\n",
    "    \n",
    "\n",
    "class StageTwoRoomFactory(RoomAbstractFactory):\n",
    "    def create_door(self):\n",
    "        return UnbreakableDoor() \n",
    "    \n",
    "    def create_floor(self):\n",
    "        return StickyFloor()\n",
    "    \n",
    "    def create_wall(self):\n",
    "        return UnbreakableWall() \n",
    "    \n",
    "\n",
    "class StageThreeRoomFactory(RoomAbstractFactory):\n",
    "    def create_door(self):\n",
    "        return BreakableDoor() \n",
    "    \n",
    "    def create_floor(self):\n",
    "        return SlipperyFloor() \n",
    "    \n",
    "    def create_wall(self):\n",
    "        return BreakableWall()"
   ]
  },
  {
   "cell_type": "code",
   "execution_count": 17,
   "metadata": {},
   "outputs": [],
   "source": [
    "class Game:\n",
    "    def __init__(self):\n",
    "        self._character_x_pos = 0\n",
    "        self._character_y_pos = 0\n",
    "\n",
    "    def build_stage(self, room_factory:RoomAbstractFactory):\n",
    "        self._character_x_pos = 0\n",
    "        self._character_y_pos = 0\n",
    "        self.door = room_factory.create_door()\n",
    "        self.floor = room_factory.create_floor() \n",
    "        self.wall = room_factory.create_wall() \n",
    "\n",
    "    @property\n",
    "    def character_pos(self):\n",
    "        return self._character_x_pos, self._character_y_pos \n",
    "    \n",
    "    def move_character(self, x, y):\n",
    "        print(\"moving from\", self.character_pos, end=' ')\n",
    "        self._character_x_pos = self._character_x_pos + (x * self.floor.speed_multiplier)\n",
    "        self._character_y_pos = self._character_y_pos + (y * self.floor.speed_multiplier)\n",
    "        print(\"to\", self.character_pos)"
   ]
  },
  {
   "cell_type": "code",
   "execution_count": 22,
   "metadata": {},
   "outputs": [
    {
     "name": "stdout",
     "output_type": "stream",
     "text": [
      "moving from (0, 0) to (1, 2)\n",
      "moving from (1, 2) to (3, 12)\n",
      "moving from (0, 0) to (2.5, 5.0)\n",
      "moving from (2.5, 5.0) to (7.5, 8.5)\n",
      "moving from (0, 0) to (6.0, 3.0)\n"
     ]
    }
   ],
   "source": [
    "game = Game() \n",
    "game.build_stage(StageOneRoomFactory())\n",
    "game.move_character(1, 2)\n",
    "game.move_character(2, 10)\n",
    "game.build_stage(StageTwoRoomFactory())\n",
    "game.move_character(5, 10)\n",
    "game.move_character(10, 7)\n",
    "game.build_stage(StageThreeRoomFactory())\n",
    "game.move_character(4, 2)"
   ]
  },
  {
   "cell_type": "markdown",
   "metadata": {},
   "source": [
    "Now, say you wish to build a Stage 4, there is already a fixed way to do so using the Abstract Factory Pattern. And if you wish to implement a new kind of room component, you can use extend the respective Product interfaces."
   ]
  },
  {
   "cell_type": "code",
   "execution_count": 23,
   "metadata": {},
   "outputs": [],
   "source": [
    "class AcceleratorFloor(AbstractFloor):\n",
    "    @property\n",
    "    def speed_multiplier(self):\n",
    "        return 2\n",
    "\n",
    "class StageFourRoomFactory(RoomAbstractFactory):\n",
    "    def create_door(self):\n",
    "        return BreakableDoor()\n",
    "    \n",
    "    def create_floor(self):\n",
    "        return AcceleratorFloor()\n",
    "    \n",
    "    def create_wall(self):\n",
    "        return BreakableWall() "
   ]
  },
  {
   "cell_type": "code",
   "execution_count": 24,
   "metadata": {},
   "outputs": [
    {
     "name": "stdout",
     "output_type": "stream",
     "text": [
      "moving from (0, 0) to (8, 8)\n"
     ]
    }
   ],
   "source": [
    "game.build_stage(StageFourRoomFactory())\n",
    "game.move_character(4, 4)"
   ]
  },
  {
   "cell_type": "markdown",
   "metadata": {},
   "source": [
    "The obvious benefit here is that the Client Code doesn't have to implement their factory methods on their end, they just have to pass in the appropriate concrete factory at the appropriate time.  \n",
    "It also gets to keep the item creation logic within a separate object, closer to the Single Responsibility Principle"
   ]
  },
  {
   "cell_type": "markdown",
   "metadata": {},
   "source": [
    "Let's go back to the very beginning and follow along with the example provided by the book Design Patterns"
   ]
  },
  {
   "cell_type": "code",
   "execution_count": null,
   "metadata": {},
   "outputs": [],
   "source": [
    "from abc import ABCMeta, abstractmethod \n",
    "\n",
    "class MapSite(metaclass=ABCMeta):\n",
    "    @abstractmethod \n",
    "    def enter(self):\n",
    "        pass \n",
    "\n",
    "class Room(MapSite):\n",
    "    def __init__(self, room_no): \n",
    "        pass \n",
    "    \n",
    "    def get_side(direction):\n",
    "        pass \n",
    "\n",
    "    def set_side(direction, map_site:MapSite): \n",
    "        pass \n",
    "\n"
   ]
  }
 ],
 "metadata": {
  "kernelspec": {
   "display_name": "oop",
   "language": "python",
   "name": "oop"
  },
  "language_info": {
   "codemirror_mode": {
    "name": "ipython",
    "version": 3
   },
   "file_extension": ".py",
   "mimetype": "text/x-python",
   "name": "python",
   "nbconvert_exporter": "python",
   "pygments_lexer": "ipython3",
   "version": "3.12.4"
  }
 },
 "nbformat": 4,
 "nbformat_minor": 2
}
