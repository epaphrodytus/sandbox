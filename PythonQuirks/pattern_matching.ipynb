{
 "cells": [
  {
   "cell_type": "markdown",
   "metadata": {},
   "source": [
    "# Pattern Matching  \n",
    "New feature added in python 3.10 that allows pattern matching across different kinds of data structures  \n",
    "- [Sequences](#sequences)"
   ]
  },
  {
   "cell_type": "markdown",
   "metadata": {},
   "source": [
    "### Sequences"
   ]
  },
  {
   "cell_type": "code",
   "execution_count": 1,
   "metadata": {},
   "outputs": [],
   "source": [
    "metro_areas = [\n",
    "    ('Tokyo', 'JP', 36.933, (35.689722, 139.691667)),  # <1>\n",
    "    ('Delhi NCR', 'IN', 21.935, (28.613889, 77.208889)),\n",
    "    ('Mexico City', 'MX', 20.142, (19.433333, -99.133333)),\n",
    "    ('New York-Newark', 'US', 20.104, (40.808611, -74.020386)),\n",
    "    ('São Paulo', 'BR', 19.649, (-23.547778, -46.635833)),\n",
    "]"
   ]
  },
  {
   "cell_type": "code",
   "execution_count": 5,
   "metadata": {},
   "outputs": [
    {
     "name": "stdout",
     "output_type": "stream",
     "text": [
      "                |  latitude | longitude\n",
      "Mexico City     |   19.4333 |  -99.1333\n",
      "New York-Newark |   40.8086 |  -74.0204\n",
      "São Paulo       |  -23.5478 |  -46.6358\n"
     ]
    }
   ],
   "source": [
    "print(f\"{'':15} | {'latitude':>9} | {'longitude':>9}\")\n",
    "for record in metro_areas: \n",
    "    match record: # pattern matching block starts with a match keyword followed by the target of the matching -> match <target>: \n",
    "        case [name, _, _, (lat, lon)] if lon <= 0: # the format of the patterns is as follows -> case <pattern> <guard>\n",
    "            print(f'{name:15} | {lat:9.4f} | {lon:9.4f}')\n"
   ]
  },
  {
   "cell_type": "markdown",
   "metadata": {},
   "source": [
    "Pattern matching first matches structurally, in the above example it first checks if `record` is a sequence with 4 elements, with the last element beinga another sequence containing 2 elements.  \n",
    "\n",
    "You may think of pattern matching as a sort of mini-language with its own rules e.g., it takes in type-casting functions as type hints. "
   ]
  },
  {
   "cell_type": "code",
   "execution_count": 10,
   "metadata": {},
   "outputs": [
    {
     "ename": "Exception",
     "evalue": "Could not match the following: [('Tokyo', 'JP', 36.933, (35.689722, 139.691667)), ('Delhi NCR', 'IN', 21.935, (28.613889, 77.208889)), ('Mexico City', 'MX', 20.142, (19.433333, -99.133333)), ('New York-Newark', 'US', 20.104, (40.808611, -74.020386)), ('São Paulo', 'BR', 19.649, (-23.547778, -46.635833))]",
     "output_type": "error",
     "traceback": [
      "\u001b[1;31m---------------------------------------------------------------------------\u001b[0m",
      "\u001b[1;31mException\u001b[0m                                 Traceback (most recent call last)",
      "Cell \u001b[1;32mIn[10], line 9\u001b[0m\n\u001b[0;32m      7\u001b[0m             unmatched\u001b[38;5;241m.\u001b[39mappend(record)\n\u001b[0;32m      8\u001b[0m \u001b[38;5;28;01mif\u001b[39;00m \u001b[38;5;28mlen\u001b[39m(unmatched) \u001b[38;5;241m>\u001b[39m \u001b[38;5;241m0\u001b[39m:\n\u001b[1;32m----> 9\u001b[0m     \u001b[38;5;28;01mraise\u001b[39;00m \u001b[38;5;167;01mException\u001b[39;00m(\u001b[38;5;124mf\u001b[39m\u001b[38;5;124m'\u001b[39m\u001b[38;5;124mCould not match the following: \u001b[39m\u001b[38;5;132;01m{\u001b[39;00munmatched\u001b[38;5;132;01m}\u001b[39;00m\u001b[38;5;124m'\u001b[39m)\n",
      "\u001b[1;31mException\u001b[0m: Could not match the following: [('Tokyo', 'JP', 36.933, (35.689722, 139.691667)), ('Delhi NCR', 'IN', 21.935, (28.613889, 77.208889)), ('Mexico City', 'MX', 20.142, (19.433333, -99.133333)), ('New York-Newark', 'US', 20.104, (40.808611, -74.020386)), ('São Paulo', 'BR', 19.649, (-23.547778, -46.635833))]"
     ]
    }
   ],
   "source": [
    "unmatched = []\n",
    "for record in metro_areas:\n",
    "    match record: \n",
    "        case [str(name), _, _, (int(lat), float(lon))]: # Key difference (int(lat), float(lon))\n",
    "            print(f'{name:15} | {lat:9.4f} | {lon:9.4f}')\n",
    "        case _: \n",
    "            unmatched.append(record)\n",
    "if len(unmatched) > 0:\n",
    "    raise Exception(f'Could not match the following: {unmatched}')"
   ]
  },
  {
   "cell_type": "code",
   "execution_count": 11,
   "metadata": {},
   "outputs": [
    {
     "name": "stdout",
     "output_type": "stream",
     "text": [
      "Tokyo           |   35.6897 |  139.6917\n",
      "Delhi NCR       |   28.6139 |   77.2089\n",
      "Mexico City     |   19.4333 |  -99.1333\n",
      "New York-Newark |   40.8086 |  -74.0204\n",
      "São Paulo       |  -23.5478 |  -46.6358\n"
     ]
    }
   ],
   "source": [
    "unmatched = []\n",
    "for record in metro_areas:\n",
    "    match record: \n",
    "        case [str(name), _, _, (float(lat), float(lon))]: # Key difference (float(lat), float(lon))\n",
    "            print(f'{name:15} | {lat:9.4f} | {lon:9.4f}')\n",
    "        case _: \n",
    "            unmatched.append(record)\n",
    "if len(unmatched) > 0:\n",
    "    raise Exception(f'Could not match the following: {unmatched}')"
   ]
  },
  {
   "cell_type": "markdown",
   "metadata": {},
   "source": [
    "In the above 2 examples, what you will observe is that by type-checking for int in the earlier pattern, we are no longer able to match any of the given lists.  \n",
    "\n",
    "This shows how we may improve the specificity of the pattern matching."
   ]
  },
  {
   "cell_type": "code",
   "execution_count": null,
   "metadata": {},
   "outputs": [],
   "source": []
  }
 ],
 "metadata": {
  "kernelspec": {
   "display_name": "btap",
   "language": "python",
   "name": "python3"
  },
  "language_info": {
   "codemirror_mode": {
    "name": "ipython",
    "version": 3
   },
   "file_extension": ".py",
   "mimetype": "text/x-python",
   "name": "python",
   "nbconvert_exporter": "python",
   "pygments_lexer": "ipython3",
   "version": "3.10.13"
  }
 },
 "nbformat": 4,
 "nbformat_minor": 2
}
