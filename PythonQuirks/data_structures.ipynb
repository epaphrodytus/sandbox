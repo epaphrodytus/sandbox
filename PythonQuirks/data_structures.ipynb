{
 "cells": [
  {
   "cell_type": "markdown",
   "metadata": {},
   "source": [
    "Note: This notebook uses 'btap' environment \n",
    "# Data Structures  \n",
    "\n",
    "- [Lists](#lists)\n",
    "- [Tuple](#tuples)\n",
    "- [Dictionaries](#dictionaries)\n",
    "- [ChainMaps](#chainmaps)\n",
    "- [Sets](#sets)"
   ]
  },
  {
   "cell_type": "code",
   "execution_count": 113,
   "metadata": {},
   "outputs": [],
   "source": [
    "def header_print(header, print_item, max_length=30):\n",
    "    if len(header) >= max_length: \n",
    "        raise ValueError('Length of header too long')\n",
    "    string = \"{header\" + ':' + str(max_length) + \"}\" + \": \"\n",
    "    print(string.format(header=header) + str(print_item))"
   ]
  },
  {
   "cell_type": "markdown",
   "metadata": {},
   "source": [
    "### _Lists_\n",
    "\n",
    "<div style='text-align: right; font-size: small;'>\n",
    "<a href=\"#data-structures\">to top</a>\n",
    "</div>"
   ]
  },
  {
   "cell_type": "code",
   "execution_count": 1,
   "metadata": {},
   "outputs": [],
   "source": [
    "some_list = ['10', 2, 'string', ['another', 'list']]"
   ]
  },
  {
   "cell_type": "code",
   "execution_count": 2,
   "metadata": {},
   "outputs": [],
   "source": [
    "copied_list = some_list.copy()"
   ]
  },
  {
   "cell_type": "code",
   "execution_count": 3,
   "metadata": {},
   "outputs": [
    {
     "data": {
      "text/plain": [
       "[2, 2, 'string', ['another', 'list']]"
      ]
     },
     "execution_count": 3,
     "metadata": {},
     "output_type": "execute_result"
    }
   ],
   "source": [
    "copied_list[0] = 2\n",
    "copied_list"
   ]
  },
  {
   "cell_type": "code",
   "execution_count": 4,
   "metadata": {},
   "outputs": [
    {
     "data": {
      "text/plain": [
       "['10', 2, 'string', ['another', 'list']]"
      ]
     },
     "execution_count": 4,
     "metadata": {},
     "output_type": "execute_result"
    }
   ],
   "source": [
    "some_list"
   ]
  },
  {
   "cell_type": "code",
   "execution_count": 5,
   "metadata": {},
   "outputs": [],
   "source": [
    "copied_list[3][1] = 'screw up' "
   ]
  },
  {
   "cell_type": "code",
   "execution_count": 6,
   "metadata": {},
   "outputs": [
    {
     "data": {
      "text/plain": [
       "['10', 2, 'string', ['another', 'screw up']]"
      ]
     },
     "execution_count": 6,
     "metadata": {},
     "output_type": "execute_result"
    }
   ],
   "source": [
    "some_list"
   ]
  },
  {
   "cell_type": "code",
   "execution_count": 7,
   "metadata": {},
   "outputs": [
    {
     "data": {
      "text/plain": [
       "[2, 2, 'string', ['another', 'screw up']]"
      ]
     },
     "execution_count": 7,
     "metadata": {},
     "output_type": "execute_result"
    }
   ],
   "source": [
    "copied_list"
   ]
  },
  {
   "cell_type": "markdown",
   "metadata": {},
   "source": [
    "Findings: \n",
    ">A shallow copy means constructing a new collection object and then populating it with references to the child objects found in the original. In essence, a shallow copy is only one level deep. The copying process does not recurse and therefore won’t create copies of the child objects themselves. [Definition from realpython](https://realpython.com/copying-python-objects/)  \n",
    "\n",
    ">A shallow copy constructs a new compound object and then (to the extent possible) inserts references into it to the objects found in the original. [Definition from python documentation](https://docs.python.org/3/library/copy.html)  \n",
    "  \n",
    "There is a list in `some_list` but that nested list doesn't exist within `some_list` itself, instead a reference to some place in memory where the nested list exists is stored within `some_list`. When a shallow copy is performed, new references to new objects belonging to primitive data types are created but references to child objects are retained. Therefore, `copied_list` would contain a reference to the **same nested list** and any changes to that nested list via `copied_list` would also be reflected in `some_list`."
   ]
  },
  {
   "cell_type": "code",
   "execution_count": 8,
   "metadata": {},
   "outputs": [],
   "source": [
    "from copy import deepcopy\n",
    "\n",
    "another_list = ['10', 2, 'string', ['nested', 'list']]\n",
    "deep_copied_list = deepcopy(another_list)"
   ]
  },
  {
   "cell_type": "code",
   "execution_count": 9,
   "metadata": {},
   "outputs": [
    {
     "name": "stdout",
     "output_type": "stream",
     "text": [
      "['10', 2, 'string', ['nested', 'list']]\n",
      "['10', 2, 'string', ['nested', 'list']]\n"
     ]
    }
   ],
   "source": [
    "print(another_list)\n",
    "print(deep_copied_list)"
   ]
  },
  {
   "cell_type": "code",
   "execution_count": 11,
   "metadata": {},
   "outputs": [
    {
     "data": {
      "text/plain": [
       "[2, 2, 'string', ['nested', 'list']]"
      ]
     },
     "execution_count": 11,
     "metadata": {},
     "output_type": "execute_result"
    }
   ],
   "source": [
    "deep_copied_list[0] = 2\n",
    "deep_copied_list"
   ]
  },
  {
   "cell_type": "code",
   "execution_count": 12,
   "metadata": {},
   "outputs": [
    {
     "data": {
      "text/plain": [
       "[2, 2, 'string', ['nested', 'screw up']]"
      ]
     },
     "execution_count": 12,
     "metadata": {},
     "output_type": "execute_result"
    }
   ],
   "source": [
    "deep_copied_list[3][1] = 'screw up'\n",
    "deep_copied_list"
   ]
  },
  {
   "cell_type": "code",
   "execution_count": 13,
   "metadata": {},
   "outputs": [
    {
     "data": {
      "text/plain": [
       "['10', 2, 'string', ['nested', 'list']]"
      ]
     },
     "execution_count": 13,
     "metadata": {},
     "output_type": "execute_result"
    }
   ],
   "source": [
    "another_list"
   ]
  },
  {
   "cell_type": "markdown",
   "metadata": {},
   "source": [
    "Findings:  \n",
    "> A deep copy makes the copying process recursive. It means first constructing a new collection object and then recursively populating it with copies of the child objects found in the original. Copying an object this way walks the whole object tree to create a fully independent clone of the original object and all of its children. [Definition from RealPython](https://realpython.com/copying-python-objects/)  \n",
    "\n",
    "> A deep copy constructs a new compound object and then, recursively, inserts copies into it of the objects found in the original. [Definition from python documentation](https://docs.python.org/3/library/copy.html)\n",
    "\n",
    "A deep copy goes down the layers of nested child objects and creates a copy for each of those such that a new object in memory is created for each child object that the copied list then points to. "
   ]
  },
  {
   "cell_type": "code",
   "execution_count": 50,
   "metadata": {},
   "outputs": [],
   "source": [
    "recursive_list = ['element1', 'element2']\n",
    "recursive_list.append(recursive_list)"
   ]
  },
  {
   "cell_type": "code",
   "execution_count": 51,
   "metadata": {},
   "outputs": [],
   "source": [
    "deep_copy_rec_list = deepcopy(recursive_list)\n",
    "shallow_copy_rec_list = recursive_list.copy()"
   ]
  },
  {
   "cell_type": "code",
   "execution_count": 52,
   "metadata": {},
   "outputs": [
    {
     "data": {
      "text/plain": [
       "['element1', 'element2', [...]]"
      ]
     },
     "execution_count": 52,
     "metadata": {},
     "output_type": "execute_result"
    }
   ],
   "source": [
    "deep_copy_rec_list"
   ]
  },
  {
   "cell_type": "code",
   "execution_count": 53,
   "metadata": {},
   "outputs": [
    {
     "name": "stdout",
     "output_type": "stream",
     "text": [
      "deep copy 88\n",
      "shallow copy 80\n",
      "original 120\n"
     ]
    }
   ],
   "source": [
    "import sys \n",
    "print('deep copy', sys.getsizeof(deep_copy_rec_list))\n",
    "print('shallow copy', sys.getsizeof(shallow_copy_rec_list))\n",
    "print('original', sys.getsizeof(recursive_list))"
   ]
  },
  {
   "cell_type": "code",
   "execution_count": 54,
   "metadata": {},
   "outputs": [],
   "source": [
    "deep_copy_rec_list[2][2][2][2][2][2][2][2][1] = 'deep_virus'"
   ]
  },
  {
   "cell_type": "code",
   "execution_count": 55,
   "metadata": {},
   "outputs": [
    {
     "data": {
      "text/plain": [
       "['element1', 'deep_virus', [...]]"
      ]
     },
     "execution_count": 55,
     "metadata": {},
     "output_type": "execute_result"
    }
   ],
   "source": [
    "deep_copy_rec_list"
   ]
  },
  {
   "cell_type": "code",
   "execution_count": 56,
   "metadata": {},
   "outputs": [
    {
     "data": {
      "text/plain": [
       "['element1', 'element2', [...]]"
      ]
     },
     "execution_count": 56,
     "metadata": {},
     "output_type": "execute_result"
    }
   ],
   "source": [
    "recursive_list"
   ]
  },
  {
   "cell_type": "code",
   "execution_count": 57,
   "metadata": {},
   "outputs": [],
   "source": [
    "shallow_copy_rec_list[2][2][2][2][2][2][2][2][1] = 'shallow_virus'"
   ]
  },
  {
   "cell_type": "code",
   "execution_count": 58,
   "metadata": {},
   "outputs": [
    {
     "data": {
      "text/plain": [
       "['element1', 'element2', ['element1', 'shallow_virus', [...]]]"
      ]
     },
     "execution_count": 58,
     "metadata": {},
     "output_type": "execute_result"
    }
   ],
   "source": [
    "shallow_copy_rec_list"
   ]
  },
  {
   "cell_type": "code",
   "execution_count": 59,
   "metadata": {},
   "outputs": [
    {
     "data": {
      "text/plain": [
       "['element1', 'shallow_virus', [...]]"
      ]
     },
     "execution_count": 59,
     "metadata": {},
     "output_type": "execute_result"
    }
   ],
   "source": [
    "recursive_list"
   ]
  },
  {
   "cell_type": "markdown",
   "metadata": {},
   "source": [
    "Findings:  \n",
    "\n",
    "Here we get to observe the difference in behaviour of a deep copy and a shallow copy, as well as how python stores items.  \n",
    "\n",
    "`recursive_list` is created with 2 string elements followed by **a reference to itself**.  \n",
    "`deep_copy_rec_list` is a deep copy of `recursive_list`  \n",
    "`shallow_copy_rec_list` is a shallow copy of `recursive_list`  \n",
    "\n",
    "So we get to see first how a copy works on references and also how editing an element in a mutable data structure works.  \n",
    "\n",
    "You may think of `recursive_list` as something that looks like this:  \n",
    "\n",
    "ObjectHeader - 'element1' - 'element2' - Ref(ObjectHeader)  \n",
    "  \n",
    "If we try to access Ref(ObjectHeader) by doing something like `recursive_list[2]`, we just get the exact same item.  \n",
    "\n",
    "Now, if we do a deep copy, a whole new object is created \"recursively\" like so:  \n",
    "\n",
    "DeepObjectHeader - 'element1' - 'element2' - Ref(DeepObjectHeader)\n",
    "\n",
    "When we do `deep_copy_rec_list[2][2][2][2][2][2][2][2][1] = 'deep_virus'` we are actually just accessing the same object over and over again, eventually editing 'element2' and changing it to 'deep_virus'.  \n",
    "\n",
    "When we do that, the header `DeepObjectHeader` is preserved with 'element2' being mutated to 'deep_virus'. As such we get:  \n",
    "\n",
    "DeepObjectHeader - 'element1' - 'deep_virus' - Ref(DeepObjectHeader)  \n",
    "  \n",
    "\n",
    "Now, moving on to the shallow copy. Recalling the above definition, child object references are preserved (or, only the first level is copied) so what we get is:  \n",
    "\n",
    "ShallowObjectHeader - 'element1' - 'element2' - Ref(ObjectHeader)  \n",
    "\n",
    "When we do `shallow_copy_rec_list[2][2][2][2][2][2][2][2][1] = 'shallow_virus'`, we are not accessing `ShallowObjectHeader` but `ObjectHeader` which is the original object. Editing that causes `ObjectHeader` to change from:  \n",
    "\n",
    "ObjectHeader - 'element1' - 'element2' - Ref(ObjectHeader)  \n",
    "**_TO_**  \n",
    "ObjectHeader - 'element1' - 'shallow_virus' - Ref(ObjectHeader)  \n",
    "\n",
    "while `ShallowObjectHeader` remains as :  \n",
    "\n",
    "ShallowObjectHeader - 'element1' - 'element2' - Ref(ObjectHeader)  \n",
    "\n",
    "This is what gives us:  \n",
    "`['element1', 'element2', ['element1', 'shallow_virus', [...]]]`  \n",
    "for the shallow copy.  \n",
    "And `['element1', 'shallow_virus', [...]]` for the original recursive list."
   ]
  },
  {
   "cell_type": "code",
   "execution_count": 99,
   "metadata": {},
   "outputs": [
    {
     "name": "stdout",
     "output_type": "stream",
     "text": [
      "2916041219264\n",
      "2916041035136\n",
      "2916041035136\n",
      "2916041565568\n",
      "2916041565568\n"
     ]
    }
   ],
   "source": [
    "# Proof:\n",
    "print(id(shallow_copy_rec_list))\n",
    "print(id(recursive_list))\n",
    "print(id(shallow_copy_rec_list[2]))\n",
    "print(id(deep_copy_rec_list))\n",
    "print(id(deep_copy_rec_list[2]))"
   ]
  },
  {
   "cell_type": "markdown",
   "metadata": {},
   "source": [
    "### _Tuples_\n",
    "\n",
    "<div style='text-align: right; font-size: small;'>\n",
    "<a href=\"#data-structures\">to top</a>\n",
    "</div>"
   ]
  },
  {
   "cell_type": "code",
   "execution_count": 79,
   "metadata": {},
   "outputs": [],
   "source": [
    "def hashable(object):\n",
    "    try: \n",
    "        hash(object)\n",
    "    except TypeError as e:\n",
    "        return False \n",
    "    return True "
   ]
  },
  {
   "cell_type": "code",
   "execution_count": 82,
   "metadata": {},
   "outputs": [
    {
     "data": {
      "text/plain": [
       "False"
      ]
     },
     "execution_count": 82,
     "metadata": {},
     "output_type": "execute_result"
    }
   ],
   "source": [
    "some_tuple = (10, 'alpha', ['mutable', 'list', 'with', 'hashable', 'elements'])\n",
    "# do note that a list is actual non-hashable \n",
    "hashable(['some', 'list'])"
   ]
  },
  {
   "cell_type": "code",
   "execution_count": 83,
   "metadata": {},
   "outputs": [
    {
     "data": {
      "text/plain": [
       "False"
      ]
     },
     "execution_count": 83,
     "metadata": {},
     "output_type": "execute_result"
    }
   ],
   "source": [
    "hashable(some_tuple)"
   ]
  },
  {
   "cell_type": "code",
   "execution_count": 86,
   "metadata": {},
   "outputs": [
    {
     "data": {
      "text/plain": [
       "True"
      ]
     },
     "execution_count": 86,
     "metadata": {},
     "output_type": "execute_result"
    }
   ],
   "source": [
    "good_tuple = (10, 'alpha', 'plus', 'ultra')\n",
    "hashable(good_tuple)"
   ]
  },
  {
   "cell_type": "markdown",
   "metadata": {},
   "source": [
    "Findings:  \n",
    "An object is hashable if its value cannot ever change. A hashable object can be used as a key in a dictionary etc., because it can guarantee that when it is referred to, it will always point to the same object in memory.  \n",
    "\n",
    "Note that for `some_tuple`, although we say that tuples are 'immutable' (and it is), it is still unhashable, i.e., its value is _unfixed_. This is because of the mutable list that exists as one of its members. "
   ]
  },
  {
   "cell_type": "code",
   "execution_count": 87,
   "metadata": {},
   "outputs": [],
   "source": [
    "some_tuple[2][1] = 'virus'"
   ]
  },
  {
   "cell_type": "code",
   "execution_count": 89,
   "metadata": {},
   "outputs": [
    {
     "data": {
      "text/plain": [
       "(10, 'alpha', ['mutable', 'virus', 'with', 'hashable', 'elements'])"
      ]
     },
     "execution_count": 89,
     "metadata": {},
     "output_type": "execute_result"
    }
   ],
   "source": [
    "some_tuple # Note that we can change mutable elements of an \"immutable\" tuple "
   ]
  },
  {
   "cell_type": "code",
   "execution_count": 90,
   "metadata": {},
   "outputs": [
    {
     "ename": "TypeError",
     "evalue": "unhashable type: 'list'",
     "output_type": "error",
     "traceback": [
      "\u001b[1;31m---------------------------------------------------------------------------\u001b[0m",
      "\u001b[1;31mTypeError\u001b[0m                                 Traceback (most recent call last)",
      "Cell \u001b[1;32mIn[90], line 1\u001b[0m\n\u001b[1;32m----> 1\u001b[0m some_dict \u001b[38;5;241m=\u001b[39m {good_tuple: \u001b[38;5;28;01mTrue\u001b[39;00m, some_tuple: \u001b[38;5;28;01mFalse\u001b[39;00m}\n",
      "\u001b[1;31mTypeError\u001b[0m: unhashable type: 'list'"
     ]
    }
   ],
   "source": [
    "some_dict = {good_tuple: True, some_tuple: False}"
   ]
  },
  {
   "cell_type": "code",
   "execution_count": 91,
   "metadata": {},
   "outputs": [],
   "source": [
    "some_dict = {good_tuple: True}"
   ]
  },
  {
   "cell_type": "code",
   "execution_count": 92,
   "metadata": {},
   "outputs": [
    {
     "data": {
      "text/plain": [
       "True"
      ]
     },
     "execution_count": 92,
     "metadata": {},
     "output_type": "execute_result"
    }
   ],
   "source": [
    "some_dict[(10, 'alpha', 'plus', 'ultra')]"
   ]
  },
  {
   "cell_type": "markdown",
   "metadata": {},
   "source": [
    "Findings:  \n",
    "Note from the above examples that the non-hashable tuple `some_tuple` cannot be used as a dictionary key but the hashable tuple, `good_tuple` (comprising of primitive data types) can.  \n",
    "Furthermore, we can grab the corresponding value for `good_tuple` in `some_dict` by grabbing it using another tuple with the exact same elements. This is because these 2 objects would have the same hash and would therefore point to the same location in the hash table. "
   ]
  },
  {
   "cell_type": "code",
   "execution_count": 101,
   "metadata": {},
   "outputs": [
    {
     "data": {
      "text/plain": [
       "[30, 40, 50, 60]"
      ]
     },
     "execution_count": 101,
     "metadata": {},
     "output_type": "execute_result"
    }
   ],
   "source": [
    "t = (1, 2, [30, 40])\n",
    "t[2] + [50, 60]"
   ]
  },
  {
   "cell_type": "code",
   "execution_count": 102,
   "metadata": {},
   "outputs": [
    {
     "data": {
      "text/plain": [
       "(1, 2, [30, 40])"
      ]
     },
     "execution_count": 102,
     "metadata": {},
     "output_type": "execute_result"
    }
   ],
   "source": [
    "t"
   ]
  },
  {
   "cell_type": "code",
   "execution_count": 103,
   "metadata": {},
   "outputs": [
    {
     "ename": "TypeError",
     "evalue": "'tuple' object does not support item assignment",
     "output_type": "error",
     "traceback": [
      "\u001b[1;31m---------------------------------------------------------------------------\u001b[0m",
      "\u001b[1;31mTypeError\u001b[0m                                 Traceback (most recent call last)",
      "Cell \u001b[1;32mIn[103], line 1\u001b[0m\n\u001b[1;32m----> 1\u001b[0m \u001b[43mt\u001b[49m\u001b[43m[\u001b[49m\u001b[38;5;241;43m2\u001b[39;49m\u001b[43m]\u001b[49m \u001b[38;5;241m+\u001b[39m\u001b[38;5;241m=\u001b[39m [\u001b[38;5;241m50\u001b[39m, \u001b[38;5;241m60\u001b[39m]\n",
      "\u001b[1;31mTypeError\u001b[0m: 'tuple' object does not support item assignment"
     ]
    }
   ],
   "source": [
    "t[2] += [50, 60]"
   ]
  },
  {
   "cell_type": "code",
   "execution_count": 115,
   "metadata": {},
   "outputs": [
    {
     "data": {
      "text/plain": [
       "(1, 2, [30, 40, 50, 60])"
      ]
     },
     "execution_count": 115,
     "metadata": {},
     "output_type": "execute_result"
    }
   ],
   "source": [
    "t"
   ]
  },
  {
   "cell_type": "markdown",
   "metadata": {},
   "source": [
    "Findings:  \n",
    "Notice that the in-place assignment acutally takes place even though an error was thrown. This tells us that the above operation is not atomic. In one step, a portion of it succeeds, and a portion of it fails, and the successful portion persists even though the overall operation has failed."
   ]
  },
  {
   "cell_type": "code",
   "execution_count": 113,
   "metadata": {},
   "outputs": [],
   "source": [
    "import dis\n",
    "s = (1, 2, [30, 40])\n",
    "x = [50, 60]"
   ]
  },
  {
   "cell_type": "code",
   "execution_count": 114,
   "metadata": {},
   "outputs": [
    {
     "name": "stdout",
     "output_type": "stream",
     "text": [
      "  1           0 LOAD_NAME                0 (s)\n",
      "              2 LOAD_CONST               0 (2)\n",
      "              4 DUP_TOP_TWO\n",
      "              6 BINARY_SUBSCR\n",
      "              8 LOAD_NAME                1 (x)\n",
      "             10 INPLACE_ADD\n",
      "             12 ROT_THREE\n",
      "             14 STORE_SUBSCR\n",
      "             16 LOAD_CONST               1 (None)\n",
      "             18 RETURN_VALUE\n"
     ]
    }
   ],
   "source": [
    "dis.dis('s[2] += x')"
   ]
  },
  {
   "cell_type": "markdown",
   "metadata": {},
   "source": [
    "From the above we see that the INPLACE_ADD takes place before STORE_SUBSCR. And it is actually STORE_SUBSCR that fails for the tuple."
   ]
  },
  {
   "cell_type": "code",
   "execution_count": 116,
   "metadata": {},
   "outputs": [
    {
     "name": "stdout",
     "output_type": "stream",
     "text": [
      "2916063338688\n"
     ]
    }
   ],
   "source": [
    "test_tuple = (1, 2, [30, 40])\n",
    "print(id(test_tuple[2]))"
   ]
  },
  {
   "cell_type": "code",
   "execution_count": 117,
   "metadata": {},
   "outputs": [
    {
     "ename": "TypeError",
     "evalue": "'tuple' object does not support item assignment",
     "output_type": "error",
     "traceback": [
      "\u001b[1;31m---------------------------------------------------------------------------\u001b[0m",
      "\u001b[1;31mTypeError\u001b[0m                                 Traceback (most recent call last)",
      "Cell \u001b[1;32mIn[117], line 1\u001b[0m\n\u001b[1;32m----> 1\u001b[0m \u001b[43mtest_tuple\u001b[49m\u001b[43m[\u001b[49m\u001b[38;5;241;43m2\u001b[39;49m\u001b[43m]\u001b[49m \u001b[38;5;241m+\u001b[39m\u001b[38;5;241m=\u001b[39m [\u001b[38;5;241m50\u001b[39m, \u001b[38;5;241m60\u001b[39m]\n",
      "\u001b[1;31mTypeError\u001b[0m: 'tuple' object does not support item assignment"
     ]
    }
   ],
   "source": [
    "test_tuple[2] += [50, 60]"
   ]
  },
  {
   "cell_type": "code",
   "execution_count": 118,
   "metadata": {},
   "outputs": [
    {
     "data": {
      "text/plain": [
       "(1, 2, [30, 40, 50, 60])"
      ]
     },
     "execution_count": 118,
     "metadata": {},
     "output_type": "execute_result"
    }
   ],
   "source": [
    "test_tuple"
   ]
  },
  {
   "cell_type": "code",
   "execution_count": 119,
   "metadata": {},
   "outputs": [
    {
     "name": "stdout",
     "output_type": "stream",
     "text": [
      "2916063338688\n"
     ]
    }
   ],
   "source": [
    "print(id(test_tuple[2]))"
   ]
  },
  {
   "cell_type": "code",
   "execution_count": 107,
   "metadata": {},
   "outputs": [
    {
     "name": "stdout",
     "output_type": "stream",
     "text": [
      "2916063290496\n",
      "2916063338240\n"
     ]
    }
   ],
   "source": [
    "a = [30, 40]\n",
    "b = [50, 60]\n",
    "print(id(a))\n",
    "print(id(b))"
   ]
  },
  {
   "cell_type": "code",
   "execution_count": 108,
   "metadata": {},
   "outputs": [
    {
     "name": "stdout",
     "output_type": "stream",
     "text": [
      "[30, 40, 50, 60]\n",
      "2916063290496\n"
     ]
    }
   ],
   "source": [
    "a += b\n",
    "print(a)\n",
    "print(id(a))"
   ]
  },
  {
   "cell_type": "code",
   "execution_count": 109,
   "metadata": {},
   "outputs": [
    {
     "name": "stdout",
     "output_type": "stream",
     "text": [
      "2916063163904\n"
     ]
    }
   ],
   "source": [
    "a = a + b \n",
    "print(id(a))"
   ]
  },
  {
   "cell_type": "markdown",
   "metadata": {},
   "source": [
    "Findings:  \n",
    "An in-place operation changes the object while retaining it's header in memory.  \n",
    "\n",
    "Re-assignments of a variable after an operation will cause a new object to be generated instead. \n"
   ]
  },
  {
   "cell_type": "markdown",
   "metadata": {},
   "source": [
    "### _Dictionaries_\n",
    "\n",
    "<div style='text-align: right; font-size: small;'>\n",
    "<a href=\"#data-structures\">to top</a>\n",
    "</div>"
   ]
  },
  {
   "cell_type": "markdown",
   "metadata": {},
   "source": [
    "#### Unpacking"
   ]
  },
  {
   "cell_type": "code",
   "execution_count": 87,
   "metadata": {},
   "outputs": [
    {
     "name": "stdout",
     "output_type": "stream",
     "text": [
      "Multiple dict unpackings      : {'a': 1, 'b': 2, 'c': 3, 'd': 4, 'e': 5}\n"
     ]
    },
    {
     "ename": "TypeError",
     "evalue": "__main__.dump() got multiple values for keyword argument 'c'",
     "output_type": "error",
     "traceback": [
      "\u001b[1;31m---------------------------------------------------------------------------\u001b[0m",
      "\u001b[1;31mTypeError\u001b[0m                                 Traceback (most recent call last)",
      "Cell \u001b[1;32mIn[87], line 15\u001b[0m\n\u001b[0;32m     12\u001b[0m d3 \u001b[38;5;241m=\u001b[39m {\u001b[38;5;124m'\u001b[39m\u001b[38;5;124ma\u001b[39m\u001b[38;5;124m'\u001b[39m: \u001b[38;5;241m6\u001b[39m, \u001b[38;5;124m'\u001b[39m\u001b[38;5;124md\u001b[39m\u001b[38;5;124m'\u001b[39m: \u001b[38;5;241m2\u001b[39m}\n\u001b[0;32m     14\u001b[0m header_print(\u001b[38;5;124m'\u001b[39m\u001b[38;5;124mMultiple dict unpackings\u001b[39m\u001b[38;5;124m'\u001b[39m, dump(\u001b[38;5;241m*\u001b[39m\u001b[38;5;241m*\u001b[39md1, \u001b[38;5;241m*\u001b[39m\u001b[38;5;241m*\u001b[39md2))\n\u001b[1;32m---> 15\u001b[0m header_print(\u001b[38;5;124m'\u001b[39m\u001b[38;5;124mWhen keys overlap\u001b[39m\u001b[38;5;124m'\u001b[39m, dump(\u001b[38;5;241m*\u001b[39m\u001b[38;5;241m*\u001b[39md2, \u001b[38;5;241m*\u001b[39m\u001b[38;5;241m*\u001b[39md2, \u001b[38;5;241m*\u001b[39m\u001b[38;5;241m*\u001b[39md3))\n",
      "\u001b[1;31mTypeError\u001b[0m: __main__.dump() got multiple values for keyword argument 'c'"
     ]
    }
   ],
   "source": [
    "\n",
    "\n",
    "def dump(**kwargs):\n",
    "    return kwargs \n",
    "\n",
    "d1 = {'a': 1, 'b': 2}\n",
    "d2 = {'c': 3, 'd': 4, 'e':5}\n",
    "d3 = {'a': 6, 'd': 2}\n",
    "\n",
    "header_print('Multiple dict unpackings', dump(**d1, **d2))\n",
    "header_print('When keys overlap', dump(**d2, **d2, **d3))"
   ]
  },
  {
   "cell_type": "code",
   "execution_count": 15,
   "metadata": {},
   "outputs": [
    {
     "name": "stdout",
     "output_type": "stream",
     "text": [
      "Keys overlap (dict literal)   : {'a': 6, 'b': 2, 'c': 3, 'd': 2, 'e': 5}\n"
     ]
    }
   ],
   "source": [
    "header_print('Keys overlap (dict literal)', {**d1, **d2, **d3})"
   ]
  },
  {
   "cell_type": "code",
   "execution_count": 19,
   "metadata": {},
   "outputs": [
    {
     "name": "stdout",
     "output_type": "stream",
     "text": [
      "Merging maps                  : {'a': 6, 'b': 2, 'd': 2}\n",
      "Merging goes left-to-right    : {'a': 1, 'b': 2, 'd': 2}\n"
     ]
    }
   ],
   "source": [
    "header_print('Merging maps', d1 | d3)\n",
    "header_print('Merging goes left-to-right', d1 | d3 | d1)"
   ]
  },
  {
   "cell_type": "code",
   "execution_count": 24,
   "metadata": {},
   "outputs": [
    {
     "name": "stdout",
     "output_type": "stream",
     "text": [
      "d1 ID before merge            : 2648110609216\n",
      "ID of merged item             : 2648109588864\n",
      "perform in-place merge of d1\n",
      "d1 contents after in-place    : {'a': 6, 'b': 2, 'd': 2}\n",
      "di ID after merge             : 2648110609216\n"
     ]
    }
   ],
   "source": [
    "header_print('d1 ID before merge', id(d1))\n",
    "header_print('ID of merged item', id(d1 | d3))\n",
    "print('perform in-place merge of d1')\n",
    "d1 |= d3 \n",
    "header_print('d1 contents after in-place', d1)\n",
    "header_print('di ID after merge', id(d1))"
   ]
  },
  {
   "cell_type": "code",
   "execution_count": 43,
   "metadata": {},
   "outputs": [
    {
     "name": "stdout",
     "output_type": "stream",
     "text": [
      "matches case2:  {'a': 1, 'b': 2}\n",
      "matches case3:  {'c': 3, 'd': 4, 'e': 5}\n",
      "matches case1:  {'a': 6, 'd': 2}\n",
      "matches case4:  {'f': 7, 'g': 8, 'h': 9}\n"
     ]
    }
   ],
   "source": [
    "from collections import OrderedDict\n",
    "\n",
    "d1 = {'a': 1, 'b': 2}\n",
    "d2 = {'c': 3, 'd': 4, 'e':5}\n",
    "d3 = {'a': 6, 'd': 2}\n",
    "d4 = OrderedDict()\n",
    "d4 = {'f': 7, 'g': 8, 'h': 9}\n",
    "\n",
    "list_of_dicts = [d1, d2, d3, d4]\n",
    "\n",
    "for record in list_of_dicts: \n",
    "    match record: \n",
    "        case {'a': value_a, 'd': value_d}:\n",
    "            print('matches case1: ', record)\n",
    "        case {'b': value_b}: # partial_matching works\n",
    "            print('matches case2: ', record)\n",
    "        case {'e': value_e, 'c': value_c}: # order of keys matching does not matter\n",
    "            print('matches case3: ', record)\n",
    "        case {'h': value_h, 'f': value_f}: # and it does not matter even if the record is an instance of OrderedDicta\n",
    "            print('matches case4: ', record) \n",
    "        case _:\n",
    "            print('does not match', record)\n"
   ]
  },
  {
   "cell_type": "code",
   "execution_count": 45,
   "metadata": {},
   "outputs": [
    {
     "data": {
      "text/plain": [
       "True"
      ]
     },
     "execution_count": 45,
     "metadata": {},
     "output_type": "execute_result"
    }
   ],
   "source": [
    "from collections import abc \n",
    "my_dict = {}\n",
    "isinstance(my_dict, abc.Mapping)\n",
    "isinstance(my_dict, abc.MutableMapping)"
   ]
  },
  {
   "cell_type": "code",
   "execution_count": 48,
   "metadata": {},
   "outputs": [],
   "source": [
    "from collections import UserDict \n",
    "\n",
    "class UpperCaseDict(UserDict):\n",
    "    def __setitem__(self, key, value):\n",
    "        key = key.upper() \n",
    "        super().__setitem__(key, value)"
   ]
  },
  {
   "cell_type": "code",
   "execution_count": 49,
   "metadata": {},
   "outputs": [
    {
     "data": {
      "text/plain": [
       "{'DOWN': 1, 'WITH': 2, 'THE': 3, 'SICKNESS': 4}"
      ]
     },
     "execution_count": 49,
     "metadata": {},
     "output_type": "execute_result"
    }
   ],
   "source": [
    "upper_case_dict = UpperCaseDict({'down': 1, 'with': 2, 'the': 3, 'sickness': 4})\n",
    "upper_case_dict"
   ]
  },
  {
   "cell_type": "code",
   "execution_count": 50,
   "metadata": {},
   "outputs": [
    {
     "name": "stdout",
     "output_type": "stream",
     "text": [
      "True\n",
      "True\n"
     ]
    }
   ],
   "source": [
    "print(isinstance(upper_case_dict, abc.Mapping))\n",
    "print(isinstance(upper_case_dict, abc.MutableMapping))"
   ]
  },
  {
   "cell_type": "markdown",
   "metadata": {},
   "source": [
    "The idea:  \n",
    "\n",
    "One should endeavor to master the features that ABCs have. When creating custom objects that should behave like those ABCs, doing isinstance on these ABCs is good practice because it guarantees users that your custom object will have certain features"
   ]
  },
  {
   "cell_type": "markdown",
   "metadata": {},
   "source": [
    "#### Experimentation"
   ]
  },
  {
   "cell_type": "markdown",
   "metadata": {},
   "source": [
    "##### Hypothesis: Implementing all the components of the sequence protocol would cause isinstance(custom_object, abc.Sequence) to return True"
   ]
  },
  {
   "cell_type": "code",
   "execution_count": 68,
   "metadata": {},
   "outputs": [],
   "source": [
    "class SampleSequence: \n",
    "    def __init__(self, initialdata=None):\n",
    "        if initialdata is not None and not isinstance(initialdata, abc.Sequence):\n",
    "            raise TypeError(f\"Was expecting initialdata of type Sequence, received {type(initialdata)} instead\")\n",
    "        self.data = initialdata \n",
    "\n",
    "    def __repr__(self):\n",
    "        return repr(self.data)\n",
    "    \n",
    "    def __len__(self):\n",
    "        return len(self.data)\n",
    "    \n",
    "    def __getitem__(self, index):\n",
    "        return self.data[index]\n",
    "    \n",
    "    def __contains__(self, value):\n",
    "        return value in self.data \n",
    "    \n",
    "    def __iter__(self):\n",
    "        return iter(self.data)\n",
    "    \n",
    "    def __reversed__(self):\n",
    "        return self.data.reverse()\n",
    "    \n",
    "    def count(self):\n",
    "        return len(self.data)\n",
    "    \n",
    "    def index(self, value):\n",
    "        return self.data.index(value)\n"
   ]
  },
  {
   "cell_type": "code",
   "execution_count": 69,
   "metadata": {},
   "outputs": [
    {
     "name": "stdout",
     "output_type": "stream",
     "text": [
      "False\n"
     ]
    }
   ],
   "source": [
    "sample_sequence = SampleSequence(['a', 'couple', 'of', 'values'])\n",
    "print(isinstance(sample_sequence, abc.Sequence))"
   ]
  },
  {
   "cell_type": "markdown",
   "metadata": {},
   "source": [
    "##### Result: This is not true, after further research, it seems that we need to register our object into the virtual subcalss that is abc.Sequence for isinstance(custom_object, abc.Sequence) to return True  \n",
    "\n",
    "The above will be investigated further in a later chapter"
   ]
  },
  {
   "cell_type": "code",
   "execution_count": 71,
   "metadata": {},
   "outputs": [],
   "source": [
    "from collections import UserList\n",
    "class AnotherSampleSequence(UserList): \n",
    "    def __init__(self, initialdata=None):\n",
    "        if initialdata is not None and not isinstance(initialdata, abc.Sequence):\n",
    "            raise TypeError(f\"Was expecting initialdata of type Sequence, received {type(initialdata)} instead\")\n",
    "        self.data = initialdata \n",
    "\n",
    "    def __repr__(self):\n",
    "        return repr(self.data)\n",
    "    \n",
    "    def __len__(self):\n",
    "        return len(self.data)\n",
    "    \n",
    "    def __getitem__(self, index):\n",
    "        return self.data[index]\n",
    "    \n",
    "    def __contains__(self, value):\n",
    "        return value in self.data \n",
    "    \n",
    "    def __iter__(self):\n",
    "        return iter(self.data)\n",
    "    \n",
    "    def __reversed__(self):\n",
    "        return self.data.reverse()\n",
    "    \n",
    "    def count(self):\n",
    "        return len(self.data)\n",
    "    \n",
    "    def index(self, value):\n",
    "        return self.data.index(value)"
   ]
  },
  {
   "cell_type": "code",
   "execution_count": 72,
   "metadata": {},
   "outputs": [],
   "source": [
    "another_sample_sequence = ['something', 'else']"
   ]
  },
  {
   "cell_type": "code",
   "execution_count": 73,
   "metadata": {},
   "outputs": [
    {
     "name": "stdout",
     "output_type": "stream",
     "text": [
      "True\n"
     ]
    }
   ],
   "source": [
    "print(isinstance(another_sample_sequence, abc.Sequence))"
   ]
  },
  {
   "cell_type": "markdown",
   "metadata": {},
   "source": [
    "Even without registering the object into a virtual subclass, it can sometimes help to inherit from one of the classes provided by `collections` this will ensure that anything you do not implement, will be taken care of by the parent class.  \n",
    "\n",
    "Another possible motivation of doing isinstance() on abc objects is because, when it comes to passing in data, we typically do not care if the data is passed in as a tuple, or as a list even though each of those data structures has their respective quirks. We just want to iterate over an object and do something to each item. In that regard, whether it's a tuple or a list, what we want is really a Sequence."
   ]
  },
  {
   "cell_type": "markdown",
   "metadata": {},
   "source": [
    "### _ChainMaps_\n",
    "\n",
    "A useful data structure for when you wish to do sequential lookups\n",
    "<div style='text-align: right; font-size: small;'>\n",
    "<a href=\"#data-structures\">to top</a>\n",
    "</div>"
   ]
  },
  {
   "cell_type": "code",
   "execution_count": 110,
   "metadata": {},
   "outputs": [
    {
     "name": "stdout",
     "output_type": "stream",
     "text": [
      "A ChainMap instance can be seen as a sort of collection of dicts in which look up can be done across all given dicts\n",
      "If the same key exists, only the first found key is returned     : 4\n",
      "<running factory...>\n",
      "If the key doesn't exist, but a default dict exists in the chain : default\n",
      "If a change is made to a key, only the first key is affected     : [{'a': 'virus', 'b': 2}, {'c': 3, 'd': 4, 'e': 5}, {'a': 6, 'd': 2}, defaultdict(<function dflt_fac at 0x000002688FAF0D30>, {'f': 'default'})]\n",
      "ChainMaps hold a view to the underlying dictionaries             : {'a': 'virus', 'b': 2}\n"
     ]
    }
   ],
   "source": [
    "from collections import ChainMap, defaultdict\n",
    "\n",
    "d1 = {'a': 1, 'b': 2}\n",
    "d2 = {'c': 3, 'd': 4, 'e':5}\n",
    "d3 = {'a': 6, 'd': 2}\n",
    "def dflt_fac():\n",
    "    print('<running factory...>')\n",
    "    return 'default'\n",
    "d4 = defaultdict(dflt_fac)\n",
    "\n",
    "chain = ChainMap(d1, d2, d3, d4)\n",
    "\n",
    "header_length = 65\n",
    "print('A ChainMap instance can be seen as a sort of collection of dicts in which look up can be done across all given dicts')\n",
    "header_print('If the same key exists, only the first found key is returned', chain['d'], header_length)\n",
    "header_print(\"If the key doesn't exist, but a default dict exists in the chain\", chain['f'], header_length)\n",
    "chain['a'] = 'virus'\n",
    "header_print(\"If a change is made to a key, only the first key is affected\", chain.maps, header_length)\n",
    "header_print(\"ChainMaps hold a view to the underlying dictionaries\", d1, header_length)"
   ]
  },
  {
   "cell_type": "markdown",
   "metadata": {},
   "source": [
    "### Sets \n",
    "<div style='text-align: right; font-size: small;'>\n",
    "<a href=\"#data-structures\">to top</a>\n",
    "</div>"
   ]
  },
  {
   "cell_type": "code",
   "execution_count": 112,
   "metadata": {},
   "outputs": [
    {
     "data": {
      "text/plain": [
       "{'bacon', 'eggs', 'spam'}"
      ]
     },
     "execution_count": 112,
     "metadata": {},
     "output_type": "execute_result"
    }
   ],
   "source": [
    "l = ['spam', 'spam', 'eggs', 'spam', 'bacon', 'eggs']\n",
    "s = set(l)\n",
    "s"
   ]
  },
  {
   "cell_type": "code",
   "execution_count": 120,
   "metadata": {},
   "outputs": [
    {
     "name": "stdout",
     "output_type": "stream",
     "text": [
      "sets are not hashable but frozensets are\n"
     ]
    },
    {
     "ename": "TypeError",
     "evalue": "unhashable type: 'set'",
     "output_type": "error",
     "traceback": [
      "\u001b[1;31m---------------------------------------------------------------------------\u001b[0m",
      "\u001b[1;31mTypeError\u001b[0m                                 Traceback (most recent call last)",
      "Cell \u001b[1;32mIn[120], line 3\u001b[0m\n\u001b[0;32m      1\u001b[0m \u001b[38;5;28mprint\u001b[39m(\u001b[38;5;124m'\u001b[39m\u001b[38;5;124msets are not hashable but frozensets are\u001b[39m\u001b[38;5;124m'\u001b[39m)\n\u001b[0;32m      2\u001b[0m f \u001b[38;5;241m=\u001b[39m \u001b[38;5;28mfrozenset\u001b[39m(l)\n\u001b[1;32m----> 3\u001b[0m \u001b[43ms\u001b[49m\u001b[38;5;241;43m.\u001b[39;49m\u001b[43madd\u001b[49m\u001b[43m(\u001b[49m\u001b[38;5;28;43mset\u001b[39;49m\u001b[43m(\u001b[49m\u001b[43m[\u001b[49m\u001b[38;5;124;43m'\u001b[39;49m\u001b[38;5;124;43mother\u001b[39;49m\u001b[38;5;124;43m'\u001b[39;49m\u001b[43m,\u001b[49m\u001b[43m \u001b[49m\u001b[38;5;124;43m'\u001b[39;49m\u001b[38;5;124;43mfood\u001b[39;49m\u001b[38;5;124;43m'\u001b[39;49m\u001b[43m]\u001b[49m\u001b[43m)\u001b[49m\u001b[43m)\u001b[49m\n",
      "\u001b[1;31mTypeError\u001b[0m: unhashable type: 'set'"
     ]
    }
   ],
   "source": [
    "print('sets are not hashable but frozensets are')\n",
    "f = frozenset(l)\n",
    "s.add(set(['other', 'food']))"
   ]
  },
  {
   "cell_type": "code",
   "execution_count": 121,
   "metadata": {},
   "outputs": [],
   "source": [
    "s.add(frozenset(['other', 'food']))"
   ]
  },
  {
   "cell_type": "code",
   "execution_count": 122,
   "metadata": {},
   "outputs": [
    {
     "data": {
      "text/plain": [
       "{'bacon', 'eggs', frozenset({'food', 'other'}), 'spam'}"
      ]
     },
     "execution_count": 122,
     "metadata": {},
     "output_type": "execute_result"
    }
   ],
   "source": [
    "s"
   ]
  },
  {
   "cell_type": "markdown",
   "metadata": {},
   "source": [
    "Sets are unordered by default so if you wish to get an ordered list of unique values while preserving the order, you can do this instead:"
   ]
  },
  {
   "cell_type": "code",
   "execution_count": 123,
   "metadata": {},
   "outputs": [],
   "source": [
    "a_l = l.copy()"
   ]
  },
  {
   "cell_type": "code",
   "execution_count": 124,
   "metadata": {},
   "outputs": [],
   "source": [
    "unique_l_ordered = list(dict.fromkeys(a_l).keys())"
   ]
  },
  {
   "cell_type": "code",
   "execution_count": 125,
   "metadata": {},
   "outputs": [
    {
     "data": {
      "text/plain": [
       "['spam', 'eggs', 'bacon']"
      ]
     },
     "execution_count": 125,
     "metadata": {},
     "output_type": "execute_result"
    }
   ],
   "source": [
    "unique_l_ordered"
   ]
  },
  {
   "cell_type": "markdown",
   "metadata": {},
   "source": [
    "Since sets are built on hash tables, membership testing is very fast. Therefore, if you need to look for the presence of items within a data structure, please consider using a set to store your data "
   ]
  },
  {
   "cell_type": "code",
   "execution_count": 137,
   "metadata": {},
   "outputs": [
    {
     "data": {
      "text/plain": [
       "{'#',\n",
       " '$',\n",
       " '%',\n",
       " '+',\n",
       " '<',\n",
       " '=',\n",
       " '>',\n",
       " '¢',\n",
       " '£',\n",
       " '¤',\n",
       " '¥',\n",
       " '§',\n",
       " '©',\n",
       " '¬',\n",
       " '®',\n",
       " '°',\n",
       " '±',\n",
       " 'µ',\n",
       " '¶',\n",
       " '×',\n",
       " '÷'}"
      ]
     },
     "execution_count": 137,
     "metadata": {},
     "output_type": "execute_result"
    }
   ],
   "source": [
    "from unicodedata import name, digit, numeric, east_asian_width\n",
    "{chr(i) for i in range(32, 256) if 'SIGN' in name(chr(i), '')}"
   ]
  },
  {
   "cell_type": "code",
   "execution_count": null,
   "metadata": {},
   "outputs": [],
   "source": []
  }
 ],
 "metadata": {
  "kernelspec": {
   "display_name": "btap",
   "language": "python",
   "name": "python3"
  },
  "language_info": {
   "codemirror_mode": {
    "name": "ipython",
    "version": 3
   },
   "file_extension": ".py",
   "mimetype": "text/x-python",
   "name": "python",
   "nbconvert_exporter": "python",
   "pygments_lexer": "ipython3",
   "version": "3.10.13"
  }
 },
 "nbformat": 4,
 "nbformat_minor": 2
}
